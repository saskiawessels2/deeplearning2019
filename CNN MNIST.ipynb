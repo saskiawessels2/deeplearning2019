{
 "cells": [
  {
   "cell_type": "code",
   "execution_count": 1,
   "metadata": {},
   "outputs": [
    {
     "name": "stderr",
     "output_type": "stream",
     "text": [
      "Using TensorFlow backend.\n",
      "/anaconda3/lib/python3.7/importlib/_bootstrap.py:219: RuntimeWarning: compiletime version 3.6 of module 'tensorflow.python.framework.fast_tensor_util' does not match runtime version 3.7\n",
      "  return f(*args, **kwds)\n"
     ]
    }
   ],
   "source": [
    "import keras\n",
    "keras.__version__\n",
    "import matplotlib.pyplot as plt"
   ]
  },
  {
   "cell_type": "code",
   "execution_count": 2,
   "metadata": {},
   "outputs": [],
   "source": [
    "from keras import layers\n",
    "from keras import models\n",
    "\n",
    "# Building the CNN\n",
    "model = models.Sequential()\n",
    "model.add(layers.Conv2D(32, (3, 3), activation='relu', input_shape=(28, 28, 1)))\n",
    "model.add(layers.MaxPooling2D((2, 2)))\n",
    "model.add(layers.Conv2D(64, (3, 3), activation='relu'))\n",
    "model.add(layers.MaxPooling2D((2, 2)))\n",
    "model.add(layers.Conv2D(64, (3, 3), activation='relu'))"
   ]
  },
  {
   "cell_type": "code",
   "execution_count": 3,
   "metadata": {},
   "outputs": [
    {
     "name": "stdout",
     "output_type": "stream",
     "text": [
      "_________________________________________________________________\n",
      "Layer (type)                 Output Shape              Param #   \n",
      "=================================================================\n",
      "conv2d_1 (Conv2D)            (None, 26, 26, 32)        320       \n",
      "_________________________________________________________________\n",
      "max_pooling2d_1 (MaxPooling2 (None, 13, 13, 32)        0         \n",
      "_________________________________________________________________\n",
      "conv2d_2 (Conv2D)            (None, 11, 11, 64)        18496     \n",
      "_________________________________________________________________\n",
      "max_pooling2d_2 (MaxPooling2 (None, 5, 5, 64)          0         \n",
      "_________________________________________________________________\n",
      "conv2d_3 (Conv2D)            (None, 3, 3, 64)          36928     \n",
      "=================================================================\n",
      "Total params: 55,744\n",
      "Trainable params: 55,744\n",
      "Non-trainable params: 0\n",
      "_________________________________________________________________\n"
     ]
    }
   ],
   "source": [
    "model.summary()"
   ]
  },
  {
   "cell_type": "code",
   "execution_count": 4,
   "metadata": {},
   "outputs": [],
   "source": [
    "# Building CNN\n",
    "model.add(layers.Flatten())\n",
    "model.add(layers.Dense(64, activation='relu'))\n",
    "model.add(layers.Dense(10, activation='softmax'))"
   ]
  },
  {
   "cell_type": "code",
   "execution_count": 5,
   "metadata": {},
   "outputs": [
    {
     "name": "stdout",
     "output_type": "stream",
     "text": [
      "_________________________________________________________________\n",
      "Layer (type)                 Output Shape              Param #   \n",
      "=================================================================\n",
      "conv2d_1 (Conv2D)            (None, 26, 26, 32)        320       \n",
      "_________________________________________________________________\n",
      "max_pooling2d_1 (MaxPooling2 (None, 13, 13, 32)        0         \n",
      "_________________________________________________________________\n",
      "conv2d_2 (Conv2D)            (None, 11, 11, 64)        18496     \n",
      "_________________________________________________________________\n",
      "max_pooling2d_2 (MaxPooling2 (None, 5, 5, 64)          0         \n",
      "_________________________________________________________________\n",
      "conv2d_3 (Conv2D)            (None, 3, 3, 64)          36928     \n",
      "_________________________________________________________________\n",
      "flatten_1 (Flatten)          (None, 576)               0         \n",
      "_________________________________________________________________\n",
      "dense_1 (Dense)              (None, 64)                36928     \n",
      "_________________________________________________________________\n",
      "dense_2 (Dense)              (None, 10)                650       \n",
      "=================================================================\n",
      "Total params: 93,322\n",
      "Trainable params: 93,322\n",
      "Non-trainable params: 0\n",
      "_________________________________________________________________\n"
     ]
    }
   ],
   "source": [
    "model.summary()"
   ]
  },
  {
   "cell_type": "code",
   "execution_count": 6,
   "metadata": {},
   "outputs": [],
   "source": [
    "from keras.datasets import mnist\n",
    "from keras.utils import to_categorical\n",
    "\n",
    "(train_images, train_labels), (test_images, test_labels) = mnist.load_data()"
   ]
  },
  {
   "cell_type": "code",
   "execution_count": 7,
   "metadata": {},
   "outputs": [
    {
     "data": {
      "image/png": "[encoded data removed]",
      "text/plain": [
       "<Figure size 432x288 with 1 Axes>"
      ]
     },
     "metadata": {
      "needs_background": "light"
     },
     "output_type": "display_data"
    }
   ],
   "source": [
    "plt.hist(train_labels)\n",
    "\n",
    "plt.title(\"Histogram training labels\")\n",
    "plt.xlabel(\"Value\")\n",
    "plt.ylabel(\"Frequency\")\n",
    "\n",
    "fig = plt.gcf()"
   ]
  },
  {
   "cell_type": "code",
   "execution_count": 8,
   "metadata": {},
   "outputs": [
    {
     "data": {
      "image/png": "[encoded data removed]",
      "text/plain": [
       "<Figure size 432x288 with 1 Axes>"
      ]
     },
     "metadata": {
      "needs_background": "light"
     },
     "output_type": "display_data"
    }
   ],
   "source": [
    "plt.hist(test_labels)\n",
    "\n",
    "plt.title(\"Histogram testing labels\")\n",
    "plt.xlabel(\"Value\")\n",
    "plt.ylabel(\"Frequency\")\n",
    "\n",
    "fig = plt.gcf()"
   ]
  },
  {
   "cell_type": "code",
   "execution_count": 9,
   "metadata": {},
   "outputs": [],
   "source": [
    "# The images are reshaped and rescaled \n",
    "train_images = train_images.reshape((60000, 28, 28, 1))\n",
    "train_images = train_images.astype('float32') / 255\n",
    "\n",
    "test_images = test_images.reshape((10000, 28, 28, 1))\n",
    "test_images = test_images.astype('float32') / 255\n",
    "\n",
    "num_classes = 10\n",
    "train_labels = to_categorical(train_labels, num_classes)\n",
    "test_labels = to_categorical(test_labels, num_classes)"
   ]
  },
  {
   "cell_type": "code",
   "execution_count": 10,
   "metadata": {},
   "outputs": [
    {
     "data": {
      "text/plain": [
       "((54000, 28, 28, 1),\n",
       " (54000, 10),\n",
       " (6000, 28, 28, 1),\n",
       " (6000, 10),\n",
       " (10000, 28, 28, 1),\n",
       " (10000, 10))"
      ]
     },
     "execution_count": 10,
     "metadata": {},
     "output_type": "execute_result"
    }
   ],
   "source": [
    "# shuffle the training dataset & set aside val_perc % of rows as validation data\n",
    "import numpy as np\n",
    "for _ in range(5): \n",
    "    indexes = np.random.permutation(len(train_images))\n",
    "\n",
    "# randomly sorted\n",
    "train_images = train_images[indexes]\n",
    "train_labels = train_labels[indexes]\n",
    "\n",
    "# now we will set-aside val_perc% of the train_data/labels as cross-validation sets\n",
    "val_perc = 0.10\n",
    "val_count = int(val_perc * len(train_images))\n",
    "\n",
    "# first pick validation set\n",
    "val_data = train_images[:val_count,:]\n",
    "val_labels = train_labels[:val_count,:]\n",
    "\n",
    "# leave rest in training set\n",
    "train_data2 = train_images[val_count:,:]\n",
    "train_labels2 = train_labels[val_count:,:]\n",
    "\n",
    "train_data2.shape, train_labels2.shape, val_data.shape, val_labels.shape, test_images.shape, test_labels.shape"
   ]
  },
  {
   "cell_type": "code",
   "execution_count": 11,
   "metadata": {
    "scrolled": false
   },
   "outputs": [],
   "source": [
    "test_accuracy_value = []\n",
    "def train_model(optimizer):\n",
    "    \n",
    "    '''This function trains the convolutional neural network on the MNIST training set. The early stopping point \n",
    "    will be established and the accuracy of the model will be calculated on the MNIST test set. The function takes\n",
    "    name of the optimizer as argument.'''\n",
    "    \n",
    "    model.compile(optimizer=optimizer,\n",
    "                  loss='categorical_crossentropy',\n",
    "                  metrics=['accuracy'])\n",
    "\n",
    "    save_best = keras.callbacks.ModelCheckpoint('best.weights', monitor='val_loss', verbose=1, save_best_only=True)\n",
    "    early_stop = keras.callbacks.EarlyStopping(monitor='val_loss', min_delta=0, patience=5, verbose=1)\n",
    "\n",
    "    history = model.fit(train_data2, train_labels2, epochs=100, batch_size=64,\n",
    "                        validation_data=(val_data, val_labels), callbacks=[early_stop, save_best])\n",
    "    \n",
    "    print(early_stop.stopped_epoch) \n",
    "    test_loss, test_acc = model.evaluate(test_images, test_labels)\n",
    "    print(test_acc)\n",
    "    test_accuracy_value.append('Test accuracy with {} = {}'.format(optimizer, test_acc))\n",
    "    return history"
   ]
  },
  {
   "cell_type": "code",
   "execution_count": 12,
   "metadata": {
    "scrolled": false
   },
   "outputs": [
    {
     "name": "stdout",
     "output_type": "stream",
     "text": [
      "Train on 54000 samples, validate on 6000 samples\n",
      "Epoch 1/100\n",
      "54000/54000 [==============================] - 113s 2ms/step - loss: 0.1896 - acc: 0.9410 - val_loss: 0.0703 - val_acc: 0.9775\n",
      "\n",
      "Epoch 00001: val_loss improved from inf to 0.07027, saving model to best.weights\n",
      "Epoch 2/100\n",
      "54000/54000 [==============================] - 108s 2ms/step - loss: 0.0508 - acc: 0.9843 - val_loss: 0.0395 - val_acc: 0.9872\n",
      "\n",
      "Epoch 00002: val_loss improved from 0.07027 to 0.03949, saving model to best.weights\n",
      "Epoch 3/100\n",
      "54000/54000 [==============================] - 101s 2ms/step - loss: 0.0349 - acc: 0.9897 - val_loss: 0.0322 - val_acc: 0.9897\n",
      "\n",
      "Epoch 00003: val_loss improved from 0.03949 to 0.03219, saving model to best.weights\n",
      "Epoch 4/100\n",
      "54000/54000 [==============================] - 110s 2ms/step - loss: 0.0257 - acc: 0.9918 - val_loss: 0.0298 - val_acc: 0.9893\n",
      "\n",
      "Epoch 00004: val_loss improved from 0.03219 to 0.02979, saving model to best.weights\n",
      "Epoch 5/100\n",
      "54000/54000 [==============================] - 93s 2ms/step - loss: 0.0198 - acc: 0.9937 - val_loss: 0.0259 - val_acc: 0.9918\n",
      "\n",
      "Epoch 00005: val_loss improved from 0.02979 to 0.02589, saving model to best.weights\n",
      "Epoch 6/100\n",
      "54000/54000 [==============================] - 96s 2ms/step - loss: 0.0150 - acc: 0.9952 - val_loss: 0.0335 - val_acc: 0.9913\n",
      "\n",
      "Epoch 00006: val_loss did not improve from 0.02589\n",
      "Epoch 7/100\n",
      "54000/54000 [==============================] - 107s 2ms/step - loss: 0.0124 - acc: 0.9961 - val_loss: 0.0387 - val_acc: 0.9878\n",
      "\n",
      "Epoch 00007: val_loss did not improve from 0.02589\n",
      "Epoch 8/100\n",
      "54000/54000 [==============================] - 99s 2ms/step - loss: 0.0096 - acc: 0.9971 - val_loss: 0.0321 - val_acc: 0.9913\n",
      "\n",
      "Epoch 00008: val_loss did not improve from 0.02589\n",
      "Epoch 9/100\n",
      "54000/54000 [==============================] - 100s 2ms/step - loss: 0.0080 - acc: 0.9974 - val_loss: 0.0310 - val_acc: 0.9910\n",
      "\n",
      "Epoch 00009: val_loss did not improve from 0.02589\n",
      "Epoch 10/100\n",
      "54000/54000 [==============================] - 110s 2ms/step - loss: 0.0055 - acc: 0.9983 - val_loss: 0.0303 - val_acc: 0.9918\n",
      "\n",
      "Epoch 00010: val_loss did not improve from 0.02589\n",
      "Epoch 00010: early stopping\n",
      "9\n",
      "10000/10000 [==============================] - 5s 515us/step\n",
      "0.9921\n"
     ]
    }
   ],
   "source": [
    "adadelta = train_model('adadelta')"
   ]
  },
  {
   "cell_type": "code",
   "execution_count": 13,
   "metadata": {
    "scrolled": false
   },
   "outputs": [
    {
     "name": "stdout",
     "output_type": "stream",
     "text": [
      "Train on 54000 samples, validate on 6000 samples\n",
      "Epoch 1/100\n",
      "54000/54000 [==============================] - 98s 2ms/step - loss: 0.0025 - acc: 0.9994 - val_loss: 0.0266 - val_acc: 0.9927\n",
      "\n",
      "Epoch 00001: val_loss improved from inf to 0.02661, saving model to best.weights\n",
      "Epoch 2/100\n",
      "54000/54000 [==============================] - 101s 2ms/step - loss: 0.0019 - acc: 0.9995 - val_loss: 0.0257 - val_acc: 0.9930\n",
      "\n",
      "Epoch 00002: val_loss improved from 0.02661 to 0.02570, saving model to best.weights\n",
      "Epoch 3/100\n",
      "54000/54000 [==============================] - 97s 2ms/step - loss: 0.0016 - acc: 0.9997 - val_loss: 0.0254 - val_acc: 0.9930\n",
      "\n",
      "Epoch 00003: val_loss improved from 0.02570 to 0.02542, saving model to best.weights\n",
      "Epoch 4/100\n",
      "54000/54000 [==============================] - 88s 2ms/step - loss: 0.0015 - acc: 0.9997 - val_loss: 0.0252 - val_acc: 0.9932\n",
      "\n",
      "Epoch 00004: val_loss improved from 0.02542 to 0.02520, saving model to best.weights\n",
      "Epoch 5/100\n",
      "54000/54000 [==============================] - 89s 2ms/step - loss: 0.0013 - acc: 0.9997 - val_loss: 0.0253 - val_acc: 0.9930\n",
      "\n",
      "Epoch 00005: val_loss did not improve from 0.02520\n",
      "Epoch 6/100\n",
      "54000/54000 [==============================] - 93s 2ms/step - loss: 0.0013 - acc: 0.9997 - val_loss: 0.0252 - val_acc: 0.9932\n",
      "\n",
      "Epoch 00006: val_loss improved from 0.02520 to 0.02516, saving model to best.weights\n",
      "Epoch 7/100\n",
      "54000/54000 [==============================] - 90s 2ms/step - loss: 0.0012 - acc: 0.9998 - val_loss: 0.0252 - val_acc: 0.9932\n",
      "\n",
      "Epoch 00007: val_loss did not improve from 0.02516\n",
      "Epoch 8/100\n",
      "54000/54000 [==============================] - 86s 2ms/step - loss: 0.0011 - acc: 0.9999 - val_loss: 0.0251 - val_acc: 0.9935\n",
      "\n",
      "Epoch 00008: val_loss improved from 0.02516 to 0.02514, saving model to best.weights\n",
      "Epoch 9/100\n",
      "54000/54000 [==============================] - 86s 2ms/step - loss: 0.0011 - acc: 0.9998 - val_loss: 0.0251 - val_acc: 0.9933\n",
      "\n",
      "Epoch 00009: val_loss improved from 0.02514 to 0.02512, saving model to best.weights\n",
      "Epoch 10/100\n",
      "54000/54000 [==============================] - 107s 2ms/step - loss: 0.0010 - acc: 0.9999 - val_loss: 0.0253 - val_acc: 0.9933\n",
      "\n",
      "Epoch 00010: val_loss did not improve from 0.02512\n",
      "Epoch 11/100\n",
      "54000/54000 [==============================] - 99s 2ms/step - loss: 0.0010 - acc: 0.9999 - val_loss: 0.0254 - val_acc: 0.9933\n",
      "\n",
      "Epoch 00011: val_loss did not improve from 0.02512\n",
      "Epoch 12/100\n",
      "54000/54000 [==============================] - 99s 2ms/step - loss: 9.6886e-04 - acc: 0.9999 - val_loss: 0.0256 - val_acc: 0.9932\n",
      "\n",
      "Epoch 00012: val_loss did not improve from 0.02512\n",
      "Epoch 13/100\n",
      "54000/54000 [==============================] - 100s 2ms/step - loss: 9.5136e-04 - acc: 0.9999 - val_loss: 0.0255 - val_acc: 0.9932\n",
      "\n",
      "Epoch 00013: val_loss did not improve from 0.02512\n",
      "Epoch 14/100\n",
      "54000/54000 [==============================] - 95s 2ms/step - loss: 9.2551e-04 - acc: 0.9999 - val_loss: 0.0255 - val_acc: 0.9932\n",
      "\n",
      "Epoch 00014: val_loss did not improve from 0.02512\n",
      "Epoch 00014: early stopping\n",
      "13\n",
      "10000/10000 [==============================] - 6s 557us/step\n",
      "0.9931\n"
     ]
    }
   ],
   "source": [
    "sgd = train_model('sgd')"
   ]
  },
  {
   "cell_type": "code",
   "execution_count": 14,
   "metadata": {
    "scrolled": false
   },
   "outputs": [
    {
     "name": "stdout",
     "output_type": "stream",
     "text": [
      "Train on 54000 samples, validate on 6000 samples\n",
      "Epoch 1/100\n",
      "54000/54000 [==============================] - 97s 2ms/step - loss: 0.0162 - acc: 0.9949 - val_loss: 0.0306 - val_acc: 0.9922\n",
      "\n",
      "Epoch 00001: val_loss improved from inf to 0.03063, saving model to best.weights\n",
      "Epoch 2/100\n",
      "54000/54000 [==============================] - 89s 2ms/step - loss: 0.0148 - acc: 0.9954 - val_loss: 0.0379 - val_acc: 0.9908\n",
      "\n",
      "Epoch 00002: val_loss did not improve from 0.03063\n",
      "Epoch 3/100\n",
      "54000/54000 [==============================] - 93s 2ms/step - loss: 0.0148 - acc: 0.9955 - val_loss: 0.0372 - val_acc: 0.9907\n",
      "\n",
      "Epoch 00003: val_loss did not improve from 0.03063\n",
      "Epoch 4/100\n",
      "54000/54000 [==============================] - 86s 2ms/step - loss: 0.0108 - acc: 0.9965 - val_loss: 0.0529 - val_acc: 0.9882\n",
      "\n",
      "Epoch 00004: val_loss did not improve from 0.03063\n",
      "Epoch 5/100\n",
      "54000/54000 [==============================] - 66s 1ms/step - loss: 0.0102 - acc: 0.9968 - val_loss: 0.0390 - val_acc: 0.9922\n",
      "\n",
      "Epoch 00005: val_loss did not improve from 0.03063\n",
      "Epoch 6/100\n",
      "54000/54000 [==============================] - 47s 871us/step - loss: 0.0084 - acc: 0.9972 - val_loss: 0.0335 - val_acc: 0.9927\n",
      "\n",
      "Epoch 00006: val_loss did not improve from 0.03063\n",
      "Epoch 00006: early stopping\n",
      "5\n",
      "10000/10000 [==============================] - 3s 275us/step\n",
      "0.9901\n"
     ]
    }
   ],
   "source": [
    "rmsprop = train_model('rmsprop')"
   ]
  },
  {
   "cell_type": "code",
   "execution_count": 15,
   "metadata": {},
   "outputs": [
    {
     "name": "stdout",
     "output_type": "stream",
     "text": [
      "Train on 54000 samples, validate on 6000 samples\n",
      "Epoch 1/100\n",
      "54000/54000 [==============================] - 54s 995us/step - loss: 0.0137 - acc: 0.9958 - val_loss: 0.0385 - val_acc: 0.9905\n",
      "\n",
      "Epoch 00001: val_loss improved from inf to 0.03849, saving model to best.weights\n",
      "Epoch 2/100\n",
      "54000/54000 [==============================] - 71s 1ms/step - loss: 0.0104 - acc: 0.9967 - val_loss: 0.0434 - val_acc: 0.9888\n",
      "\n",
      "Epoch 00002: val_loss did not improve from 0.03849\n",
      "Epoch 3/100\n",
      "54000/54000 [==============================] - 59s 1ms/step - loss: 0.0108 - acc: 0.9966 - val_loss: 0.0520 - val_acc: 0.9883\n",
      "\n",
      "Epoch 00003: val_loss did not improve from 0.03849\n",
      "Epoch 4/100\n",
      "54000/54000 [==============================] - 56s 1ms/step - loss: 0.0081 - acc: 0.9974 - val_loss: 0.0396 - val_acc: 0.9915\n",
      "\n",
      "Epoch 00004: val_loss did not improve from 0.03849\n",
      "Epoch 5/100\n",
      "54000/54000 [==============================] - 56s 1ms/step - loss: 0.0064 - acc: 0.9979 - val_loss: 0.0382 - val_acc: 0.9908\n",
      "\n",
      "Epoch 00005: val_loss improved from 0.03849 to 0.03824, saving model to best.weights\n",
      "Epoch 6/100\n",
      "54000/54000 [==============================] - 57s 1ms/step - loss: 0.0077 - acc: 0.9977 - val_loss: 0.0349 - val_acc: 0.9915\n",
      "\n",
      "Epoch 00006: val_loss improved from 0.03824 to 0.03492, saving model to best.weights\n",
      "Epoch 7/100\n",
      "54000/54000 [==============================] - 57s 1ms/step - loss: 0.0070 - acc: 0.9976 - val_loss: 0.0487 - val_acc: 0.9898\n",
      "\n",
      "Epoch 00007: val_loss did not improve from 0.03492\n",
      "Epoch 8/100\n",
      "54000/54000 [==============================] - 56s 1ms/step - loss: 0.0069 - acc: 0.9976 - val_loss: 0.0356 - val_acc: 0.9920\n",
      "\n",
      "Epoch 00008: val_loss did not improve from 0.03492\n",
      "Epoch 9/100\n",
      "54000/54000 [==============================] - 55s 1ms/step - loss: 0.0081 - acc: 0.9972 - val_loss: 0.0465 - val_acc: 0.9898\n",
      "\n",
      "Epoch 00009: val_loss did not improve from 0.03492\n",
      "Epoch 10/100\n",
      "54000/54000 [==============================] - 56s 1ms/step - loss: 0.0059 - acc: 0.9984 - val_loss: 0.0483 - val_acc: 0.9900\n",
      "\n",
      "Epoch 00010: val_loss did not improve from 0.03492\n",
      "Epoch 11/100\n",
      "54000/54000 [==============================] - 57s 1ms/step - loss: 0.0061 - acc: 0.9981 - val_loss: 0.0303 - val_acc: 0.9923\n",
      "\n",
      "Epoch 00011: val_loss improved from 0.03492 to 0.03035, saving model to best.weights\n",
      "Epoch 12/100\n",
      "54000/54000 [==============================] - 57s 1ms/step - loss: 0.0028 - acc: 0.9991 - val_loss: 0.0390 - val_acc: 0.9920\n",
      "\n",
      "Epoch 00012: val_loss did not improve from 0.03035\n",
      "Epoch 13/100\n",
      "54000/54000 [==============================] - 55s 1ms/step - loss: 0.0059 - acc: 0.9983 - val_loss: 0.0518 - val_acc: 0.9888\n",
      "\n",
      "Epoch 00013: val_loss did not improve from 0.03035\n",
      "Epoch 14/100\n",
      "54000/54000 [==============================] - 57s 1ms/step - loss: 0.0047 - acc: 0.9985 - val_loss: 0.0549 - val_acc: 0.9890\n",
      "\n",
      "Epoch 00014: val_loss did not improve from 0.03035\n",
      "Epoch 15/100\n",
      "54000/54000 [==============================] - 64s 1ms/step - loss: 0.0055 - acc: 0.9984 - val_loss: 0.0597 - val_acc: 0.9873\n",
      "\n",
      "Epoch 00015: val_loss did not improve from 0.03035\n",
      "Epoch 16/100\n",
      "54000/54000 [==============================] - 56s 1ms/step - loss: 0.0040 - acc: 0.9989 - val_loss: 0.0460 - val_acc: 0.9912\n",
      "\n",
      "Epoch 00016: val_loss did not improve from 0.03035\n",
      "Epoch 00016: early stopping\n",
      "15\n",
      "10000/10000 [==============================] - 3s 302us/step\n",
      "0.9914\n"
     ]
    }
   ],
   "source": [
    "adam = train_model('adam')"
   ]
  },
  {
   "cell_type": "code",
   "execution_count": 16,
   "metadata": {},
   "outputs": [
    {
     "name": "stdout",
     "output_type": "stream",
     "text": [
      "['Test accuracy with adadelta = 0.9921', 'Test accuracy with sgd = 0.9931', 'Test accuracy with rmsprop = 0.9901', 'Test accuracy with adam = 0.9914']\n"
     ]
    }
   ],
   "source": [
    "print(test_accuracy_value)"
   ]
  },
  {
   "cell_type": "code",
   "execution_count": 23,
   "metadata": {
    "scrolled": true
   },
   "outputs": [
    {
     "data": {
      "image/png": "[encoded data removed]",
      "text/plain": [
       "<Figure size 432x288 with 1 Axes>"
      ]
     },
     "metadata": {
      "needs_background": "light"
     },
     "output_type": "display_data"
    }
   ],
   "source": [
    "# Plot the validation loss of the models trained with the different optimization algorithms\n",
    "plt.plot(sgd.history['val_loss'], marker='o')\n",
    "plt.plot(adadelta.history['val_loss'], marker='*')\n",
    "plt.plot(rmsprop.history['val_loss'], marker='+')\n",
    "plt.plot(adam.history['val_loss'], marker='s')\n",
    "plt.title('Model loss')\n",
    "plt.ylabel('Validation loss')\n",
    "plt.xlabel('Epoch')\n",
    "plt.legend(['sgd', 'adadelta', 'rmsprop', 'adam'], loc='upper right')\n",
    "plt.show()"
   ]
  }
 ],
 "metadata": {
  "kernelspec": {
   "display_name": "Python 3",
   "language": "python",
   "name": "python3"
  },
  "language_info": {
   "codemirror_mode": {
    "name": "ipython",
    "version": 3
   },
   "file_extension": ".py",
   "mimetype": "text/x-python",
   "name": "python",
   "nbconvert_exporter": "python",
   "pygments_lexer": "ipython3",
   "version": "3.7.1"
  }
 },
 "nbformat": 4,
 "nbformat_minor": 2
}
